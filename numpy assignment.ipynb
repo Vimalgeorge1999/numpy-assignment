{
 "cells": [
  {
   "cell_type": "markdown",
   "id": "bf345203",
   "metadata": {},
   "source": [
    "# 1. Create a null vector of size 10 but the fifth value which is 1.\n"
   ]
  },
  {
   "cell_type": "code",
   "execution_count": 2,
   "id": "d4208d0d",
   "metadata": {},
   "outputs": [
    {
     "name": "stdout",
     "output_type": "stream",
     "text": [
      "[0. 0. 0. 0. 1. 0. 0. 0. 0. 0.]\n"
     ]
    }
   ],
   "source": [
    "import numpy as np\n",
    "x=np.zeros(10)\n",
    "x[4]=1\n",
    "print(x)"
   ]
  },
  {
   "cell_type": "markdown",
   "id": "cb8d12a3",
   "metadata": {},
   "source": [
    "# 2.Create a vector with values ranging from 10 to 49."
   ]
  },
  {
   "cell_type": "code",
   "execution_count": 3,
   "id": "498729c7",
   "metadata": {},
   "outputs": [
    {
     "name": "stdout",
     "output_type": "stream",
     "text": [
      "[10 11 12 13 14 15 16 17 18 19 20 21 22 23 24 25 26 27 28 29 30 31 32 33\n",
      " 34 35 36 37 38 39 40 41 42 43 44 45 46 47 48 49]\n"
     ]
    }
   ],
   "source": [
    "x=np.arange(10,50)\n",
    "print(x)"
   ]
  },
  {
   "cell_type": "markdown",
   "id": "34eb3265",
   "metadata": {},
   "source": [
    "# 3. Create a 3x3 matrix with values ranging from 0 to 8"
   ]
  },
  {
   "cell_type": "code",
   "execution_count": 6,
   "id": "557b80d4",
   "metadata": {},
   "outputs": [
    {
     "name": "stdout",
     "output_type": "stream",
     "text": [
      "[[0 1 2]\n",
      " [3 4 5]\n",
      " [6 7 8]]\n"
     ]
    }
   ],
   "source": [
    "x=np.arange(0,9).reshape(3,3)\n",
    "print(x)"
   ]
  },
  {
   "cell_type": "markdown",
   "id": "65608fc7",
   "metadata": {},
   "source": [
    "# 4. Find indices of non-zero elements from [1,2,0,0,4,0]\n"
   ]
  },
  {
   "cell_type": "code",
   "execution_count": 8,
   "id": "6d1732fd",
   "metadata": {},
   "outputs": [
    {
     "data": {
      "text/plain": [
       "(array([0, 1, 4], dtype=int64),)"
      ]
     },
     "execution_count": 8,
     "metadata": {},
     "output_type": "execute_result"
    }
   ],
   "source": [
    "x=np.array([1,2,0,0,4,0])\n",
    "a=np.nonzero(x)\n",
    "a"
   ]
  },
  {
   "cell_type": "markdown",
   "id": "0e0b4239",
   "metadata": {},
   "source": [
    "# 5 Create a 10x10 array with random values and find the minimum and maximum values.\n"
   ]
  },
  {
   "cell_type": "code",
   "execution_count": 20,
   "id": "3a7c4000",
   "metadata": {},
   "outputs": [
    {
     "name": "stdout",
     "output_type": "stream",
     "text": [
      "[[ 26 136 138   9  85  80  29 105  26 193]\n",
      " [142  28 120  51  64  60   8  68  66 176]\n",
      " [ 38  36  40  38  34 124  59 126 118 137]\n",
      " [104 155 112  48  30 166 156 139 121 179]\n",
      " [113 132  83  54  27 168 116  56  47  37]\n",
      " [144  18 199  10  24 115  31 194  80 185]\n",
      " [161 111 185 154 170  77 181 189 182 100]\n",
      " [ 55 173 101 151 199  57  83 180  41  93]\n",
      " [154 124 171  59 198  27  58  80  56 106]\n",
      " [ 62 117  99 167  25 197 170  46  49  72]]\n",
      "max value is 199\n",
      "min value is 8\n"
     ]
    }
   ],
   "source": [
    "x=np.random.randint(200,size=(10,10))\n",
    "print(x)\n",
    "print(\"max value is\",x.max())\n",
    "print(\"min value is\",x.min())"
   ]
  },
  {
   "cell_type": "markdown",
   "id": "0ff5ea9f",
   "metadata": {},
   "source": [
    "# 6. Create a random vector of size 30 and find the mean value.\n"
   ]
  },
  {
   "cell_type": "code",
   "execution_count": 26,
   "id": "497ac50c",
   "metadata": {},
   "outputs": [
    {
     "name": "stdout",
     "output_type": "stream",
     "text": [
      "[ 0  1  2  3  4  5  6  7  8  9 10 11 12 13 14 15 16 17 18 19 20 21 22 23\n",
      " 24 25 26 27 28 29]\n",
      "mean value o array is 14.5\n"
     ]
    }
   ],
   "source": [
    "x=np.arange(30)\n",
    "print(x)\n",
    "print(\"mean value o array is\" ,x.mean())"
   ]
  }
 ],
 "metadata": {
  "kernelspec": {
   "display_name": "Python 3 (ipykernel)",
   "language": "python",
   "name": "python3"
  },
  "language_info": {
   "codemirror_mode": {
    "name": "ipython",
    "version": 3
   },
   "file_extension": ".py",
   "mimetype": "text/x-python",
   "name": "python",
   "nbconvert_exporter": "python",
   "pygments_lexer": "ipython3",
   "version": "3.9.13"
  }
 },
 "nbformat": 4,
 "nbformat_minor": 5
}
